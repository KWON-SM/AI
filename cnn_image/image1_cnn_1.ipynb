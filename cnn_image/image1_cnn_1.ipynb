{
 "cells": [
  {
   "cell_type": "code",
   "execution_count": 1,
   "metadata": {},
   "outputs": [
    {
     "data": {
      "application/javascript": [
       "IPython.notebook.set_autosave_interval(0)"
      ]
     },
     "metadata": {},
     "output_type": "display_data"
    },
    {
     "name": "stdout",
     "output_type": "stream",
     "text": [
      "Autosave disabled\n"
     ]
    }
   ],
   "source": [
    "%autosave 0\n",
    "import warnings\n",
    "warnings.filterwarnings(action='ignore')\n",
    "\n",
    "import os\n",
    "import time\n",
    "\n",
    "import numpy as np\n",
    "import pandas as pd\n",
    "import seaborn as sb\n",
    "\n",
    "from tensorflow.keras.models import Sequential  # class\n",
    "from tensorflow.keras.models import load_model  # model 사용\n",
    "from tensorflow.keras.layers import Dense       # 전결합\n",
    "from tensorflow.keras.layers import Dropout     # 특정 node를 사용안함.\n",
    "from tensorflow.keras.layers import Conv2D\n",
    "from tensorflow.keras.layers import MaxPooling2D\n",
    "from tensorflow.keras.layers import Flatten\n",
    "\n",
    "from tensorflow.keras.callbacks import EarlyStopping   # 학습 자동 중지\n",
    "from tensorflow.keras.callbacks import ModelCheckpoint # 우수한 학습 모델 파일 저장\n",
    "from tensorflow.keras import regularizers \n",
    "from tensorflow.keras.utils import to_categorical   # one-hot 엔코딩\n",
    "\n",
    "from tensorflow.keras.datasets import mnist\n",
    "\n",
    "from sklearn.preprocessing import LabelEncoder\n",
    "from sklearn.model_selection import train_test_split # 학습셋과 테스트셋의 분리 지원\n",
    "from sklearn.model_selection import StratifiedKFold  # K겹 교차 검증\n",
    "\n",
    "import matplotlib.pyplot as plt\n",
    "from matplotlib import font_manager, rc\n",
    "\n",
    "font_name = font_manager.FontProperties(fname=\"C:/Windows/Fonts/malgun.ttf\").get_name()\n",
    "# windows 10\n",
    "# font_name = font_manager.FontProperties(fname=\"C:/Windows/Fonts/malgunsl.ttf\").get_name()\n",
    "rc('font', family=font_name)           # 맑은 고딕 폰트 지정\n",
    "plt.rcParams[\"font.size\"] = 12         # 글자 크기\n",
    "# plt.rcParams[\"figure.figsize\"] = (10, 4) # 10:4의 그래프 비율\n",
    "plt.rcParams['axes.unicode_minus'] = False  # minus 부호는 unicode 적용시 한글이 깨짐으로 설정\n",
    "\n",
    "%matplotlib inline  "
   ]
  },
  {
   "cell_type": "code",
   "execution_count": 2,
   "metadata": {},
   "outputs": [],
   "source": [
    "# 이미지 준비가 어려움으로 파이썬에서 가상의 이미지를 생성\n",
    "# 난수를 만들어 난수만큼 픽셀에 값을 표시함.\n",
    "width = 16\n",
    "height = 16\n",
    "\n",
    "def generate_dataset(samples):  # 1500 가정\n",
    "    # 데이터용으로 3차원 이미지가 저장된 4차원 배열로 사용할 list\n",
    "    ds_x = [] # python list\n",
    "    ds_y = [] # 0 ~ 255 구간의 정수, 1차원 정수 저장\n",
    "    \n",
    "    for it in range(samples):  # 1500: 0 ~ 1499, 1500번 처리\n",
    "        num_pt = np.random.randint(0, width * height)  # 256: 0 ~ 255\n",
    "        img = generate_image(num_pt)  # 7 이라면\n",
    "\n",
    "        #  list에 3차원 이미지 저장\n",
    "        ds_x.append(img)     \n",
    "\n",
    "        # 실제답, 0 ~ 255 구간의 정수, 레이블, class: 7 가정\n",
    "        ds_y.append(num_pt)\n",
    "        \n",
    "    \n",
    "    # ds_x를 배열로 변경, ds_y를 1500행 1열로 변환\n",
    "    # np.array(ds_x): 3차원 이미지가 저장된 list를 4차원 배열 형태로 리턴\n",
    "    # np.array(ds_y).reshape(samples, 1): ds_y 1차원 list를 배열로 바꾼후\n",
    "    #                                1500행 1열 2차원 배열로 변경하여 리턴\n",
    "    return np.array(ds_x), np.array(ds_y).reshape(samples, 1)\n",
    "\n",
    "# 전달된 수만큼 무작위 위치에 1을 지정, 7: 7개의 1일 할당됨.\n",
    "def generate_image(points): # 0 ~ 255, 7이라고 가정\n",
    "    img = np.zeros((width, height))  # 16 x 16의 0으로 채워진 행렬\n",
    "    # 7이면 7행 2열의 난수 발생, 행과 열로 사용할 난수 생성\n",
    "    pts = np.random.random((points, 2)) \n",
    "    \n",
    "    # pts는 2차원 배열이나 for문 때문에 하나의 행씩 추출됨. \n",
    "    # [0.26333527, 0.20043297]\n",
    "    for ipt in pts: \n",
    "        # 행, 열 index를 16 x 16 범위 안으로 생성함.\n",
    "        # int(0.26333527 * 16), int(0.20043297 * 16)] = 1 \n",
    "        img[int(ipt[0] * width), int(ipt[1] * height)] = 1\n",
    "    \n",
    "    # 2차원 배열을 3차원으로 변형하여 리턴\n",
    "    return img.reshape(width, height, 1) # 16 x 16의 1: 흑백 이미지 생성\n",
    "\n"
   ]
  },
  {
   "cell_type": "code",
   "execution_count": 6,
   "metadata": {},
   "outputs": [
    {
     "name": "stdout",
     "output_type": "stream",
     "text": [
      "(3000, 16, 16, 1)\n"
     ]
    }
   ],
   "source": [
    "x_train, y_train = generate_dataset(3000) # 훈련용\n",
    "x_test, y_test = generate_dataset(300)    # 테스트용 \n",
    "print(x_train.shape) # (3000, 16, 16, 1) 16 x 16 픽셀 흑백 이미지 3000 개 생성"
   ]
  },
  {
   "cell_type": "code",
   "execution_count": 7,
   "metadata": {},
   "outputs": [
    {
     "data": {
      "image/png": "[encoded data removed]",
      "text/plain": [
       "<Figure size 720x720 with 25 Axes>"
      ]
     },
     "metadata": {
      "needs_background": "light"
     },
     "output_type": "display_data"
    }
   ],
   "source": [
    "plt_row = 5\n",
    "plt_col = 5\n",
    "\n",
    "plt.rcParams[\"figure.figsize\"] = (10,10)\n",
    "\n",
    "f, axarr = plt.subplots(plt_row, plt_col)\n",
    "\n",
    "for i in range(plt_row*plt_col):\n",
    "    sub_plt = axarr[i//plt_row, i%plt_col]  # //: 정수형 나누기\n",
    "    sub_plt.axis('off')\n",
    "    sub_plt.imshow(x_test[i].reshape(width, height))\n",
    "    sub_plt.set_title('R: %d' % (y_test[i][0]))  # R: 점의 수\n",
    "\n",
    "plt.show()"
   ]
  },
  {
   "cell_type": "code",
   "execution_count": 8,
   "metadata": {},
   "outputs": [
    {
     "name": "stdout",
     "output_type": "stream",
     "text": [
      "Train on 2009 samples, validate on 991 samples\n",
      "Epoch 1/50\n",
      "2009/2009 [==============================] - 3s 1ms/sample - loss: 9535.5799 - val_loss: 1325.8647\n",
      "Epoch 2/50\n",
      "2009/2009 [==============================] - 2s 833us/sample - loss: 1201.2963 - val_loss: 736.9825\n",
      "Epoch 3/50\n",
      "2009/2009 [==============================] - 2s 844us/sample - loss: 757.0095 - val_loss: 390.6975\n",
      "Epoch 4/50\n",
      "2009/2009 [==============================] - 2s 837us/sample - loss: 437.8301 - val_loss: 160.7296\n",
      "Epoch 5/50\n",
      "2009/2009 [==============================] - 2s 852us/sample - loss: 325.1991 - val_loss: 104.5673\n",
      "Epoch 6/50\n",
      "2009/2009 [==============================] - 2s 837us/sample - loss: 302.3036 - val_loss: 99.4896\n",
      "Epoch 7/50\n",
      "2009/2009 [==============================] - 2s 862us/sample - loss: 273.7730 - val_loss: 104.1456\n",
      "Epoch 8/50\n",
      "2009/2009 [==============================] - 2s 834us/sample - loss: 279.0282 - val_loss: 102.2769\n",
      "Epoch 9/50\n",
      "2009/2009 [==============================] - 2s 831us/sample - loss: 258.2121 - val_loss: 96.9816\n",
      "Epoch 10/50\n",
      "2009/2009 [==============================] - 2s 848us/sample - loss: 286.1709 - val_loss: 149.8159\n",
      "Epoch 11/50\n",
      "2009/2009 [==============================] - 2s 834us/sample - loss: 257.0463 - val_loss: 75.6495\n",
      "Epoch 12/50\n",
      "2009/2009 [==============================] - 2s 837us/sample - loss: 261.9246 - val_loss: 125.4802\n",
      "Epoch 13/50\n",
      "2009/2009 [==============================] - 2s 832us/sample - loss: 232.7460 - val_loss: 73.6030\n",
      "Epoch 14/50\n",
      "2009/2009 [==============================] - 2s 840us/sample - loss: 222.4238 - val_loss: 80.4272\n",
      "Epoch 15/50\n",
      "2009/2009 [==============================] - 2s 841us/sample - loss: 236.0502 - val_loss: 84.3120\n",
      "Epoch 16/50\n",
      "2009/2009 [==============================] - 2s 829us/sample - loss: 246.0218 - val_loss: 71.1293\n",
      "Epoch 17/50\n",
      "2009/2009 [==============================] - 2s 839us/sample - loss: 277.2699 - val_loss: 75.1982\n",
      "Epoch 18/50\n",
      "2009/2009 [==============================] - 2s 836us/sample - loss: 228.2899 - val_loss: 69.9143\n",
      "Epoch 19/50\n",
      "2009/2009 [==============================] - 2s 864us/sample - loss: 242.7094 - val_loss: 81.1475\n",
      "Runtime: 33.41 초\n"
     ]
    }
   ],
   "source": [
    "# 데이터 준비\n",
    "x_train, y_train = generate_dataset(3000) # 훈련용\n",
    "x_test, y_test = generate_dataset(300)    # 테스트용 \n",
    "width=16\n",
    "height=16\n",
    "\n",
    "# 데이터가 0 부터 255로 구성되어 있음으로 255로 나누어서 정규화\n",
    "# 28 x 28 필셀의 흑백이미지(1) 60000장 구조 생성\n",
    "# x_train = x_train.reshape(60000, 28, 28, 1).astype('float32') / 255.0\n",
    "# 28 x 28 필셀의 흑백이미지(1) 10000장 구조 생성\n",
    "# x_test = x_test.reshape(10000, 28, 28, 1).astype('float32') / 255.0\n",
    "\n",
    "model = Sequential()\n",
    "model.add(Conv2D(32, kernel_size = (3, 3), padding='same',\n",
    "                 input_shape = (width, height, 1), activation='relu'))\n",
    "model.add(Conv2D(32, (3, 3), padding='same', activation='relu'))\n",
    "# 25%만 사용, 4개중에 최대값 1개만 다음 레이어로 전달\n",
    "model.add(MaxPooling2D(pool_size=(2, 2))) \n",
    "\n",
    "model.add(Conv2D(16, (3, 3), padding='same', activation='relu'))\n",
    "model.add(Conv2D(16, (3, 3), padding='same', activation='relu'))\n",
    "model.add(MaxPooling2D(pool_size=(2, 2))) # 25%만 사용\n",
    "model.add(Dropout(0.25)) # node 25% 사용하지 않음.\n",
    "\n",
    "model.add(Flatten()) # 3차원 텐서의 형태를 1차원 열방향으로 변경\n",
    "model.add(Dense(128, activation='relu'))\n",
    "model.add(Dropout(0.25)) # node 25% 사용하지 않음.\n",
    "\n",
    "model.add(Dense(1))\n",
    "model.compile(optimizer='adam', loss='mse')\n",
    "\n",
    "early_stopping = EarlyStopping(monitor='loss', patience=5)\n",
    "start = time.time()\n",
    "# 장비 속도가 느려 3번만 진행\n",
    "hist = model.fit(x_train, y_train, validation_split = 0.33, \n",
    "                 shuffle=True, epochs=50, \n",
    "                 batch_size=50, callbacks=[early_stopping])\n",
    "end = time.time()\n",
    "print('Runtime: {0:.2f} 초'.format(end-start))\n",
    "# gpu: 9 초"
   ]
  },
  {
   "cell_type": "code",
   "execution_count": 9,
   "metadata": {},
   "outputs": [
    {
     "name": "stdout",
     "output_type": "stream",
     "text": [
      "Model: \"sequential\"\n",
      "_________________________________________________________________\n",
      "Layer (type)                 Output Shape              Param #   \n",
      "=================================================================\n",
      "conv2d (Conv2D)              (None, 16, 16, 32)        320       \n",
      "_________________________________________________________________\n",
      "conv2d_1 (Conv2D)            (None, 16, 16, 32)        9248      \n",
      "_________________________________________________________________\n",
      "max_pooling2d (MaxPooling2D) (None, 8, 8, 32)          0         \n",
      "_________________________________________________________________\n",
      "conv2d_2 (Conv2D)            (None, 8, 8, 16)          4624      \n",
      "_________________________________________________________________\n",
      "conv2d_3 (Conv2D)            (None, 8, 8, 16)          2320      \n",
      "_________________________________________________________________\n",
      "max_pooling2d_1 (MaxPooling2 (None, 4, 4, 16)          0         \n",
      "_________________________________________________________________\n",
      "dropout (Dropout)            (None, 4, 4, 16)          0         \n",
      "_________________________________________________________________\n",
      "flatten (Flatten)            (None, 256)               0         \n",
      "_________________________________________________________________\n",
      "dense (Dense)                (None, 128)               32896     \n",
      "_________________________________________________________________\n",
      "dropout_1 (Dropout)          (None, 128)               0         \n",
      "_________________________________________________________________\n",
      "dense_1 (Dense)              (None, 1)                 129       \n",
      "=================================================================\n",
      "Total params: 49,537\n",
      "Trainable params: 49,537\n",
      "Non-trainable params: 0\n",
      "_________________________________________________________________\n"
     ]
    }
   ],
   "source": [
    "model.summary()"
   ]
  },
  {
   "cell_type": "code",
   "execution_count": 10,
   "metadata": {},
   "outputs": [
    {
     "name": "stderr",
     "output_type": "stream",
     "text": [
      "No handles with labels found to put in legend.\n"
     ]
    },
    {
     "data": {
      "image/png": "[encoded data removed]",
      "text/plain": [
       "<Figure size 720x360 with 2 Axes>"
      ]
     },
     "metadata": {
      "needs_background": "light"
     },
     "output_type": "display_data"
    }
   ],
   "source": [
    "import matplotlib.pyplot as plt\n",
    "%matplotlib inline  \n",
    "\n",
    "fig, loss_ax = plt.subplots()\n",
    "# plt.figure(figsize=(6,4)) # ERROR\n",
    "fig.set_size_inches(10, 5)  # 챠트 크기 설정\n",
    "\n",
    "acc_ax = loss_ax.twinx()  # 오른쪽 y 출 설정\n",
    "\n",
    "# 왼쪽 y 축 설정\n",
    "loss_ax.plot(hist.history['loss'], 'y', label='train loss')\n",
    "loss_ax.plot(hist.history['val_loss'], 'r', label='val loss')\n",
    "loss_ax.set_ylim([0.0, 7265.0]) # 값을 반영하여 변경\n",
    "\n",
    "# 오른쪽 y 축 설정\n",
    "# acc_ax.plot(hist.history['accuracy'], 'b', label='train accuracy')\n",
    "# acc_ax.plot(hist.history['val_accuracy'], 'g', label='val accuracy')\n",
    "# acc_ax.set_ylim([0.0, 1.0])\n",
    "\n",
    "# 축 레이블 설정\n",
    "loss_ax.set_xlabel('epoch')  # 학습 횟수\n",
    "loss_ax.set_ylabel('loss')   # 오차\n",
    "acc_ax.set_ylabel('accuracy') # 정확도\n",
    "\n",
    "loss_ax.legend(loc='upper left') # 오차 레이블 위치\n",
    "acc_ax.legend(loc='lower left')  # 정확도 레이블 위치\n",
    "\n",
    "plt.show()"
   ]
  },
  {
   "cell_type": "code",
   "execution_count": 11,
   "metadata": {},
   "outputs": [
    {
     "name": "stdout",
     "output_type": "stream",
     "text": [
      "[[ 95.84162 ]\n",
      " [143.6901  ]\n",
      " [ 23.819284]\n",
      " [ 22.410313]\n",
      " [ 56.98222 ]\n",
      " [ 86.51165 ]\n",
      " [201.647   ]\n",
      " [ 98.01259 ]\n",
      " [ 63.493702]\n",
      " [ 78.563034]]\n"
     ]
    }
   ],
   "source": [
    "yp = model.predict(x_test, batch_size=32)\n",
    "print(yp[0:10])"
   ]
  },
  {
   "cell_type": "code",
   "execution_count": 13,
   "metadata": {},
   "outputs": [
    {
     "data": {
      "image/png": "[encoded data removed]",
      "text/plain": [
       "<Figure size 720x720 with 25 Axes>"
      ]
     },
     "metadata": {
      "needs_background": "light"
     },
     "output_type": "display_data"
    }
   ],
   "source": [
    "plt_row = 5\n",
    "plt_col = 5\n",
    "\n",
    "plt.rcParams[\"figure.figsize\"] = (10,10)\n",
    "\n",
    "f, axarr = plt.subplots(plt_row, plt_col)\n",
    "\n",
    "for i in range(plt_row*plt_col):\n",
    "    sub_plt = axarr[i//plt_row, i%plt_col]  # //: 정수형 나누기\n",
    "    sub_plt.axis('off')\n",
    "    sub_plt.imshow(x_test[i].reshape(width, height))\n",
    "    sub_plt.set_title('R: %d P: %.0f' % (y_test[i][0], yp[i][0]))  # R: 실제값, P: 예측한 값\n",
    "\n",
    "plt.show()"
   ]
  },
  {
   "cell_type": "code",
   "execution_count": null,
   "metadata": {},
   "outputs": [],
   "source": []
  }
 ],
 "metadata": {
  "kernelspec": {
   "display_name": "machine",
   "language": "python",
   "name": "machine"
  },
  "language_info": {
   "codemirror_mode": {
    "name": "ipython",
    "version": 3
   },
   "file_extension": ".py",
   "mimetype": "text/x-python",
   "name": "python",
   "nbconvert_exporter": "python",
   "pygments_lexer": "ipython3",
   "version": "3.6.9"
  }
 },
 "nbformat": 4,
 "nbformat_minor": 2
}
