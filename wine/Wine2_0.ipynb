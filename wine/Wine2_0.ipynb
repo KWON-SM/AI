{
 "cells": [
  {
   "cell_type": "code",
   "execution_count": 1,
   "metadata": {},
   "outputs": [],
   "source": [
    "import os\n",
    "import numpy as np\n",
    "import pandas as pd\n",
    "\n",
    "from tensorflow.keras.models import Sequential         # class\n",
    "from tensorflow.keras.models import load_model         # model 사용\n",
    "from tensorflow.keras.layers import Dense              # 전결합\n",
    "from tensorflow.keras.callbacks import EarlyStopping   # 학습 자동 중지\n",
    "from tensorflow.keras.callbacks import ModelCheckpoint # 학습 자동 중지\n",
    "from tensorflow.keras import regularizers       # 가중치에 L1, L2 규제 적용\n",
    "\n",
    "from sklearn.preprocessing import LabelEncoder\n",
    "from sklearn.model_selection import train_test_split\n",
    "\n",
    "import matplotlib.pyplot as plt\n",
    "%matplotlib inline  "
   ]
  },
  {
   "cell_type": "code",
   "execution_count": 3,
   "metadata": {},
   "outputs": [
    {
     "name": "stdout",
     "output_type": "stream",
     "text": [
      "<class 'numpy.ndarray'>\n",
      "(6497, 13)\n"
     ]
    }
   ],
   "source": [
    "data = np.loadtxt('./wine_2.csv', delimiter=\",\", dtype=np.float64)\n",
    "print(type(data))\n",
    "print(data.shape)"
   ]
  },
  {
   "cell_type": "code",
   "execution_count": 4,
   "metadata": {},
   "outputs": [
    {
     "name": "stdout",
     "output_type": "stream",
     "text": [
      "(6497, 12)\n",
      "(6497,)\n"
     ]
    }
   ],
   "source": [
    "X = data[:, 0:12]\n",
    "print(X.shape)\n",
    "Y = data[:, 12]\n",
    "print(Y.shape)"
   ]
  },
  {
   "cell_type": "code",
   "execution_count": 5,
   "metadata": {},
   "outputs": [
    {
     "name": "stdout",
     "output_type": "stream",
     "text": [
      "[1. 1. 0. 0. 0. 0. 0. 0. 0. 0. 1. 1. 0. 0. 0. 1. 0. 0. 1. 0. 1. 1. 1. 0.\n",
      " 1. 0. 0. 0. 0. 0. 0. 0. 1. 0. 0. 0. 0. 0. 0. 0. 1. 0. 0. 1. 0. 0. 0. 0.\n",
      " 0. 0. 0. 0. 0. 0. 0. 0. 1. 0. 0. 0. 0. 0. 0. 1. 1. 0. 0. 1. 0. 1. 0. 0.\n",
      " 0. 0. 0. 0. 0. 0. 0. 1. 0. 0. 0. 0. 0. 1. 0. 0. 1. 0. 1. 0. 1. 0. 1. 0.\n",
      " 0. 1. 0. 1. 0. 0. 0. 1. 1. 0. 0. 0. 0. 0. 1. 0. 0. 1. 0. 0. 0. 1. 0. 0.\n",
      " 0. 0. 1. 0. 1. 0. 0. 1. 1. 1. 0. 1. 0. 1. 0. 0. 0. 0. 0. 1. 0. 1. 0. 0.\n",
      " 0. 0. 0. 0. 1. 0. 0. 1. 0. 1. 0. 0. 1. 0. 0. 0. 0. 0. 0. 0. 0. 1. 1. 1.\n",
      " 0. 1. 0. 0. 0. 0. 0. 0. 0. 0. 0. 0. 0. 0. 0. 0. 0. 0. 1. 0. 0. 0. 0. 0.\n",
      " 1. 0. 0. 0. 0. 1. 1. 0. 0. 0. 0. 0. 0. 0. 0. 0. 0. 0. 0. 1. 0. 1. 0. 0.\n",
      " 0. 0. 0. 1. 0. 1. 0. 0. 0. 0. 1. 1. 0. 1. 0. 0. 1. 1. 0. 1. 0. 0. 0. 0.\n",
      " 0. 1. 1. 1. 1. 0. 0. 1. 0. 0. 1. 1. 0. 0. 0. 0. 0. 1. 0. 1. 1. 0. 0. 0.\n",
      " 0. 0. 0. 0. 1. 0. 0. 1. 1. 0. 1. 0. 0. 0. 1. 1. 1. 0. 0. 0. 0. 0. 0. 0.\n",
      " 0. 0. 1. 0. 0. 1. 0. 1. 0. 1. 0. 0. 0. 1. 0. 0. 1. 0. 0. 0. 1. 0. 0. 0.\n",
      " 0. 0. 0. 0. 0. 0. 0. 1. 0. 0. 0. 0. 0. 0. 0. 0. 0. 0. 0. 1. 0. 0. 0. 0.\n",
      " 0. 0. 1. 0. 1. 1. 0. 0. 0. 1. 0. 1. 0. 1. 0. 0. 0. 0. 0. 0. 0. 1. 0. 0.\n",
      " 0. 0. 0. 1. 0. 0. 0. 0. 0. 0. 0. 0. 0. 0. 0. 1. 0. 1. 1. 1. 0. 0. 0. 1.\n",
      " 0. 0. 0. 1. 1. 0. 0. 0. 0. 0. 0. 0. 0. 1. 0. 0. 0. 0. 1. 0. 1. 0. 0. 0.\n",
      " 1. 0. 0. 1. 0. 0. 0. 0. 0. 0. 0. 0. 0. 0. 0. 0. 0. 0. 0. 1. 0. 0. 0. 1.\n",
      " 0. 0. 0. 0. 0. 0. 0. 0. 1. 1. 0. 0. 1. 0. 0. 1. 0. 0. 0. 0. 0. 0. 0. 0.\n",
      " 1. 1. 0. 0. 0. 0. 0. 0. 0. 0. 1. 0. 0. 0. 0. 0. 1. 1. 0. 0. 0. 1. 1. 0.\n",
      " 0. 0. 0. 0. 0. 0. 1. 0. 0. 0. 1. 1. 0. 0. 1. 0. 0. 0. 0. 0. 0. 0. 0. 0.\n",
      " 0. 0. 0. 0. 1. 0. 0. 1. 1. 1. 0. 0. 1. 0. 1. 0. 1. 0. 0. 0. 0. 0. 0. 1.\n",
      " 0. 1. 1. 0. 0. 0. 0. 1. 0. 0. 0. 0. 1. 0. 0. 0. 0. 0. 1. 0. 1. 0. 0. 0.\n",
      " 0. 0. 0. 0. 0. 0. 0. 0. 0. 0. 0. 0. 0. 0. 0. 0. 1. 0. 1. 1. 0. 0. 0. 0.\n",
      " 1. 0. 0. 0. 0. 1. 0. 0. 0.]\n",
      "(585,)\n"
     ]
    }
   ],
   "source": [
    "# train_test_split 분할을 통한 훈련, 검증, 테스트 데이터의 분리\n",
    "seed = 0\n",
    "# 90%: 분할대기, 10%: 테스트\n",
    "x_train_all, x_test, y_train_all, y_test = train_test_split(X, Y,\n",
    "                                                            stratify=Y,\n",
    "                                                            test_size=0.1,\n",
    "                                                            random_state=seed)\n",
    "# 나머지 데이터 85%를 분할, 90%: 훈련, 10%: 테스트\n",
    "x_train, x_val, y_train, y_val = train_test_split(x_train_all, y_train_all,\n",
    "                                                  stratify=y_train_all,\n",
    "                                                  test_size=0.1,\n",
    "                                                  random_state=seed)\n",
    "\n",
    "print(y_val)\n",
    "print(y_val.shape)"
   ]
  },
  {
   "cell_type": "code",
   "execution_count": 6,
   "metadata": {},
   "outputs": [
    {
     "name": "stdout",
     "output_type": "stream",
     "text": [
      "Train on 5262 samples, validate on 585 samples\n",
      "Epoch 1/1000\n",
      "4850/5262 [==========================>...] - ETA: 0s - loss: 0.2568 - accuracy: 0.9146\n",
      "Epoch 00001: val_accuracy improved from -inf to 0.94530, saving model to ./model/0001-0.9453.h5\n",
      "5262/5262 [==============================] - 1s 273us/sample - loss: 0.2516 - accuracy: 0.9156 - val_loss: 0.1689 - val_accuracy: 0.9453\n",
      "Epoch 2/1000\n",
      "4890/5262 [==========================>...] - ETA: 0s - loss: 0.1711 - accuracy: 0.9421\n",
      "Epoch 00002: val_accuracy improved from 0.94530 to 0.95214, saving model to ./model/0002-0.9521.h5\n",
      "5262/5262 [==============================] - 1s 137us/sample - loss: 0.1729 - accuracy: 0.9407 - val_loss: 0.1402 - val_accuracy: 0.9521\n",
      "Epoch 3/1000\n",
      "5180/5262 [============================>.] - ETA: 0s - loss: 0.1551 - accuracy: 0.9438\n",
      "Epoch 00003: val_accuracy did not improve from 0.95214\n",
      "5262/5262 [==============================] - 1s 138us/sample - loss: 0.1542 - accuracy: 0.9443 - val_loss: 0.1316 - val_accuracy: 0.9521\n",
      "Epoch 4/1000\n",
      "5240/5262 [============================>.] - ETA: 0s - loss: 0.1207 - accuracy: 0.9555\n",
      "Epoch 00004: val_accuracy improved from 0.95214 to 0.96239, saving model to ./model/0004-0.9624.h5\n",
      "5262/5262 [==============================] - 1s 138us/sample - loss: 0.1204 - accuracy: 0.9557 - val_loss: 0.0943 - val_accuracy: 0.9624\n",
      "Epoch 5/1000\n",
      "5200/5262 [============================>.] - ETA: 0s - loss: 0.1087 - accuracy: 0.9625\n",
      "Epoch 00005: val_accuracy did not improve from 0.96239\n",
      "5262/5262 [==============================] - 1s 141us/sample - loss: 0.1089 - accuracy: 0.9626 - val_loss: 0.1122 - val_accuracy: 0.9607\n",
      "Epoch 6/1000\n",
      "5190/5262 [============================>.] - ETA: 0s - loss: 0.1022 - accuracy: 0.9655\n",
      "Epoch 00006: val_accuracy improved from 0.96239 to 0.97094, saving model to ./model/0006-0.9709.h5\n",
      "5262/5262 [==============================] - 1s 142us/sample - loss: 0.1026 - accuracy: 0.9650 - val_loss: 0.0795 - val_accuracy: 0.9709\n",
      "Epoch 7/1000\n",
      "4890/5262 [==========================>...] - ETA: 0s - loss: 0.0940 - accuracy: 0.9701\n",
      "Epoch 00007: val_accuracy improved from 0.97094 to 0.97607, saving model to ./model/0007-0.9761.h5\n",
      "5262/5262 [==============================] - 1s 137us/sample - loss: 0.0953 - accuracy: 0.9696 - val_loss: 0.0701 - val_accuracy: 0.9761\n",
      "Epoch 8/1000\n",
      "5240/5262 [============================>.] - ETA: 0s - loss: 0.0868 - accuracy: 0.9737\n",
      "Epoch 00008: val_accuracy did not improve from 0.97607\n",
      "5262/5262 [==============================] - 1s 137us/sample - loss: 0.0865 - accuracy: 0.9738 - val_loss: 0.0748 - val_accuracy: 0.9761\n",
      "Epoch 9/1000\n",
      "5020/5262 [===========================>..] - ETA: 0s - loss: 0.0902 - accuracy: 0.9695\n",
      "Epoch 00009: val_accuracy did not improve from 0.97607\n",
      "5262/5262 [==============================] - 1s 133us/sample - loss: 0.0883 - accuracy: 0.9702 - val_loss: 0.0671 - val_accuracy: 0.9709\n",
      "Epoch 10/1000\n",
      "5180/5262 [============================>.] - ETA: 0s - loss: 0.0840 - accuracy: 0.9728\n",
      "Epoch 00010: val_accuracy did not improve from 0.97607\n",
      "5262/5262 [==============================] - 1s 141us/sample - loss: 0.0837 - accuracy: 0.9730 - val_loss: 0.0823 - val_accuracy: 0.9726\n",
      "Epoch 11/1000\n",
      "5180/5262 [============================>.] - ETA: 0s - loss: 0.0808 - accuracy: 0.9749\n",
      "Epoch 00011: val_accuracy improved from 0.97607 to 0.97778, saving model to ./model/0011-0.9778.h5\n",
      "5262/5262 [==============================] - 1s 143us/sample - loss: 0.0799 - accuracy: 0.9751 - val_loss: 0.0604 - val_accuracy: 0.9778\n",
      "Epoch 12/1000\n",
      "5230/5262 [============================>.] - ETA: 0s - loss: 0.0742 - accuracy: 0.9738\n",
      "Epoch 00012: val_accuracy did not improve from 0.97778\n",
      "5262/5262 [==============================] - 1s 137us/sample - loss: 0.0747 - accuracy: 0.9738 - val_loss: 0.0683 - val_accuracy: 0.9778\n",
      "Epoch 13/1000\n",
      "5220/5262 [============================>.] - ETA: 0s - loss: 0.0741 - accuracy: 0.9757\n",
      "Epoch 00013: val_accuracy did not improve from 0.97778\n",
      "5262/5262 [==============================] - 1s 136us/sample - loss: 0.0736 - accuracy: 0.9759 - val_loss: 0.0932 - val_accuracy: 0.9658\n",
      "Epoch 14/1000\n",
      "5260/5262 [============================>.] - ETA: 0s - loss: 0.0761 - accuracy: 0.9760\n",
      "Epoch 00014: val_accuracy did not improve from 0.97778\n",
      "5262/5262 [==============================] - 1s 139us/sample - loss: 0.0761 - accuracy: 0.9761 - val_loss: 0.0920 - val_accuracy: 0.9744\n",
      "Epoch 15/1000\n",
      "4940/5262 [===========================>..] - ETA: 0s - loss: 0.0668 - accuracy: 0.9783\n",
      "Epoch 00015: val_accuracy improved from 0.97778 to 0.97949, saving model to ./model/0015-0.9795.h5\n",
      "5262/5262 [==============================] - 1s 138us/sample - loss: 0.0672 - accuracy: 0.9780 - val_loss: 0.0512 - val_accuracy: 0.9795\n",
      "Epoch 16/1000\n",
      "4960/5262 [===========================>..] - ETA: 0s - loss: 0.0704 - accuracy: 0.9784\n",
      "Epoch 00016: val_accuracy did not improve from 0.97949\n",
      "5262/5262 [==============================] - 1s 135us/sample - loss: 0.0714 - accuracy: 0.9785 - val_loss: 0.0967 - val_accuracy: 0.9726\n",
      "Epoch 17/1000\n",
      "5190/5262 [============================>.] - ETA: 0s - loss: 0.0653 - accuracy: 0.9802\n",
      "Epoch 00017: val_accuracy did not improve from 0.97949\n",
      "5262/5262 [==============================] - 1s 138us/sample - loss: 0.0656 - accuracy: 0.9800 - val_loss: 0.0605 - val_accuracy: 0.9795\n",
      "Epoch 18/1000\n",
      "5050/5262 [===========================>..] - ETA: 0s - loss: 0.0689 - accuracy: 0.9794\n",
      "Epoch 00018: val_accuracy improved from 0.97949 to 0.98120, saving model to ./model/0018-0.9812.h5\n",
      "5262/5262 [==============================] - 1s 147us/sample - loss: 0.0695 - accuracy: 0.9793 - val_loss: 0.0593 - val_accuracy: 0.9812\n",
      "Epoch 19/1000\n",
      "5120/5262 [============================>.] - ETA: 0s - loss: 0.0667 - accuracy: 0.9812\n",
      "Epoch 00019: val_accuracy did not improve from 0.98120\n",
      "5262/5262 [==============================] - 1s 141us/sample - loss: 0.0661 - accuracy: 0.9812 - val_loss: 0.0524 - val_accuracy: 0.9778\n",
      "Epoch 20/1000\n",
      "5160/5262 [============================>.] - ETA: 0s - loss: 0.0722 - accuracy: 0.9767\n",
      "Epoch 00020: val_accuracy did not improve from 0.98120\n",
      "5262/5262 [==============================] - 1s 139us/sample - loss: 0.0714 - accuracy: 0.9770 - val_loss: 0.0536 - val_accuracy: 0.9778\n",
      "Epoch 21/1000\n",
      "4920/5262 [===========================>..] - ETA: 0s - loss: 0.0635 - accuracy: 0.9803\n",
      "Epoch 00021: val_accuracy did not improve from 0.98120\n",
      "5262/5262 [==============================] - 1s 136us/sample - loss: 0.0614 - accuracy: 0.9810 - val_loss: 0.0592 - val_accuracy: 0.9761\n",
      "Epoch 22/1000\n",
      "4890/5262 [==========================>...] - ETA: 0s - loss: 0.0634 - accuracy: 0.9802\n",
      "Epoch 00022: val_accuracy did not improve from 0.98120\n",
      "5262/5262 [==============================] - 1s 135us/sample - loss: 0.0616 - accuracy: 0.9806 - val_loss: 0.0518 - val_accuracy: 0.9795\n",
      "Epoch 23/1000\n",
      "4950/5262 [===========================>..] - ETA: 0s - loss: 0.0649 - accuracy: 0.9818\n",
      "Epoch 00023: val_accuracy did not improve from 0.98120\n",
      "5262/5262 [==============================] - 1s 136us/sample - loss: 0.0644 - accuracy: 0.9818 - val_loss: 0.1031 - val_accuracy: 0.9658\n",
      "Epoch 24/1000\n",
      "4810/5262 [==========================>...] - ETA: 0s - loss: 0.0674 - accuracy: 0.9800\n",
      "Epoch 00024: val_accuracy improved from 0.98120 to 0.98291, saving model to ./model/0024-0.9829.h5\n",
      "5262/5262 [==============================] - 1s 139us/sample - loss: 0.0655 - accuracy: 0.9804 - val_loss: 0.0513 - val_accuracy: 0.9829\n",
      "Epoch 25/1000\n",
      "5170/5262 [============================>.] - ETA: 0s - loss: 0.0592 - accuracy: 0.9826\n",
      "Epoch 00025: val_accuracy did not improve from 0.98291\n",
      "5262/5262 [==============================] - 1s 139us/sample - loss: 0.0586 - accuracy: 0.9827 - val_loss: 0.0515 - val_accuracy: 0.9795\n",
      "Epoch 26/1000\n",
      "4890/5262 [==========================>...] - ETA: 0s - loss: 0.0588 - accuracy: 0.9818\n",
      "Epoch 00026: val_accuracy did not improve from 0.98291\n",
      "5262/5262 [==============================] - 1s 135us/sample - loss: 0.0612 - accuracy: 0.9812 - val_loss: 0.0581 - val_accuracy: 0.9795\n",
      "Epoch 27/1000\n",
      "5180/5262 [============================>.] - ETA: 0s - loss: 0.0600 - accuracy: 0.9805\n",
      "Epoch 00027: val_accuracy did not improve from 0.98291\n",
      "5262/5262 [==============================] - 1s 138us/sample - loss: 0.0594 - accuracy: 0.9806 - val_loss: 0.0610 - val_accuracy: 0.9812\n"
     ]
    },
    {
     "name": "stdout",
     "output_type": "stream",
     "text": [
      "Epoch 28/1000\n",
      "4880/5262 [==========================>...] - ETA: 0s - loss: 0.0614 - accuracy: 0.9816\n",
      "Epoch 00028: val_accuracy did not improve from 0.98291\n",
      "5262/5262 [==============================] - 1s 134us/sample - loss: 0.0597 - accuracy: 0.9821 - val_loss: 0.0545 - val_accuracy: 0.9795\n",
      "Epoch 29/1000\n",
      "5170/5262 [============================>.] - ETA: 0s - loss: 0.0554 - accuracy: 0.9812\n",
      "Epoch 00029: val_accuracy did not improve from 0.98291\n",
      "5262/5262 [==============================] - 1s 139us/sample - loss: 0.0569 - accuracy: 0.9810 - val_loss: 0.0666 - val_accuracy: 0.9795\n",
      "Epoch 30/1000\n",
      "5100/5262 [============================>.] - ETA: 0s - loss: 0.0554 - accuracy: 0.9820\n",
      "Epoch 00030: val_accuracy did not improve from 0.98291\n",
      "5262/5262 [==============================] - 1s 141us/sample - loss: 0.0544 - accuracy: 0.9821 - val_loss: 0.0848 - val_accuracy: 0.9692\n",
      "Epoch 31/1000\n",
      "4870/5262 [==========================>...] - ETA: 0s - loss: 0.0546 - accuracy: 0.9834\n",
      "Epoch 00031: val_accuracy did not improve from 0.98291\n",
      "5262/5262 [==============================] - 1s 134us/sample - loss: 0.0575 - accuracy: 0.9827 - val_loss: 0.1134 - val_accuracy: 0.9607\n",
      "Epoch 32/1000\n",
      "4900/5262 [==========================>...] - ETA: 0s - loss: 0.0516 - accuracy: 0.9843\n",
      "Epoch 00032: val_accuracy did not improve from 0.98291\n",
      "5262/5262 [==============================] - 1s 136us/sample - loss: 0.0525 - accuracy: 0.9840 - val_loss: 0.0849 - val_accuracy: 0.9726\n",
      "Epoch 33/1000\n",
      "5130/5262 [============================>.] - ETA: 0s - loss: 0.0563 - accuracy: 0.9827\n",
      "Epoch 00033: val_accuracy did not improve from 0.98291\n",
      "5262/5262 [==============================] - 1s 140us/sample - loss: 0.0563 - accuracy: 0.9825 - val_loss: 0.0557 - val_accuracy: 0.9829\n",
      "Epoch 34/1000\n",
      "5150/5262 [============================>.] - ETA: 0s - loss: 0.0573 - accuracy: 0.9814\n",
      "Epoch 00034: val_accuracy did not improve from 0.98291\n",
      "5262/5262 [==============================] - 1s 139us/sample - loss: 0.0566 - accuracy: 0.9816 - val_loss: 0.0565 - val_accuracy: 0.9795\n",
      "Epoch 35/1000\n",
      "5200/5262 [============================>.] - ETA: 0s - loss: 0.0518 - accuracy: 0.9825\n",
      "Epoch 00035: val_accuracy did not improve from 0.98291\n",
      "5262/5262 [==============================] - 1s 139us/sample - loss: 0.0514 - accuracy: 0.9825 - val_loss: 0.0469 - val_accuracy: 0.9829\n",
      "Epoch 36/1000\n",
      "5070/5262 [===========================>..] - ETA: 0s - loss: 0.0519 - accuracy: 0.9854\n",
      "Epoch 00036: val_accuracy did not improve from 0.98291\n",
      "5262/5262 [==============================] - 1s 141us/sample - loss: 0.0516 - accuracy: 0.9854 - val_loss: 0.0439 - val_accuracy: 0.9829\n",
      "Epoch 37/1000\n",
      "4870/5262 [==========================>...] - ETA: 0s - loss: 0.0511 - accuracy: 0.9867\n",
      "Epoch 00037: val_accuracy did not improve from 0.98291\n",
      "5262/5262 [==============================] - 1s 134us/sample - loss: 0.0512 - accuracy: 0.9867 - val_loss: 0.1687 - val_accuracy: 0.9402\n",
      "Epoch 38/1000\n",
      "4900/5262 [==========================>...] - ETA: 0s - loss: 0.0525 - accuracy: 0.9845\n",
      "Epoch 00038: val_accuracy did not improve from 0.98291\n",
      "5262/5262 [==============================] - 1s 141us/sample - loss: 0.0519 - accuracy: 0.9848 - val_loss: 0.0496 - val_accuracy: 0.9812\n",
      "Epoch 39/1000\n",
      "5020/5262 [===========================>..] - ETA: 0s - loss: 0.0498 - accuracy: 0.9861\n",
      "Epoch 00039: val_accuracy did not improve from 0.98291\n",
      "5262/5262 [==============================] - 1s 144us/sample - loss: 0.0488 - accuracy: 0.9859 - val_loss: 0.0438 - val_accuracy: 0.9812\n",
      "Epoch 40/1000\n",
      "4960/5262 [===========================>..] - ETA: 0s - loss: 0.0486 - accuracy: 0.9877\n",
      "Epoch 00040: val_accuracy did not improve from 0.98291\n",
      "5262/5262 [==============================] - 1s 145us/sample - loss: 0.0492 - accuracy: 0.9873 - val_loss: 0.0749 - val_accuracy: 0.9761\n",
      "Epoch 41/1000\n",
      "5230/5262 [============================>.] - ETA: 0s - loss: 0.0514 - accuracy: 0.9855\n",
      "Epoch 00041: val_accuracy improved from 0.98291 to 0.98632, saving model to ./model/0041-0.9863.h5\n",
      "5262/5262 [==============================] - 1s 140us/sample - loss: 0.0514 - accuracy: 0.9854 - val_loss: 0.0428 - val_accuracy: 0.9863\n",
      "Epoch 42/1000\n",
      "5230/5262 [============================>.] - ETA: 0s - loss: 0.0501 - accuracy: 0.9864\n",
      "Epoch 00042: val_accuracy did not improve from 0.98632\n",
      "5262/5262 [==============================] - 1s 136us/sample - loss: 0.0501 - accuracy: 0.9863 - val_loss: 0.0461 - val_accuracy: 0.9812\n",
      "Epoch 43/1000\n",
      "5220/5262 [============================>.] - ETA: 0s - loss: 0.0536 - accuracy: 0.9835\n",
      "Epoch 00043: val_accuracy did not improve from 0.98632\n",
      "5262/5262 [==============================] - 1s 138us/sample - loss: 0.0532 - accuracy: 0.9837 - val_loss: 0.0539 - val_accuracy: 0.9761\n",
      "Epoch 44/1000\n",
      "5080/5262 [===========================>..] - ETA: 0s - loss: 0.0467 - accuracy: 0.9876\n",
      "Epoch 00044: val_accuracy did not improve from 0.98632\n",
      "5262/5262 [==============================] - 1s 142us/sample - loss: 0.0461 - accuracy: 0.9875 - val_loss: 0.0414 - val_accuracy: 0.9863\n",
      "Epoch 45/1000\n",
      "5060/5262 [===========================>..] - ETA: 0s - loss: 0.0501 - accuracy: 0.9862\n",
      "Epoch 00045: val_accuracy did not improve from 0.98632\n",
      "5262/5262 [==============================] - 1s 141us/sample - loss: 0.0491 - accuracy: 0.9863 - val_loss: 0.0517 - val_accuracy: 0.9795\n",
      "Epoch 46/1000\n",
      "5080/5262 [===========================>..] - ETA: 0s - loss: 0.0525 - accuracy: 0.9841\n",
      "Epoch 00046: val_accuracy did not improve from 0.98632\n",
      "5262/5262 [==============================] - 1s 139us/sample - loss: 0.0521 - accuracy: 0.9840 - val_loss: 0.1180 - val_accuracy: 0.9590\n",
      "Epoch 47/1000\n",
      "5100/5262 [============================>.] - ETA: 0s - loss: 0.0464 - accuracy: 0.9857\n",
      "Epoch 00047: val_accuracy did not improve from 0.98632\n",
      "5262/5262 [==============================] - 1s 140us/sample - loss: 0.0458 - accuracy: 0.9857 - val_loss: 0.0607 - val_accuracy: 0.9812\n",
      "Epoch 48/1000\n",
      "4900/5262 [==========================>...] - ETA: 0s - loss: 0.0467 - accuracy: 0.9867\n",
      "Epoch 00048: val_accuracy did not improve from 0.98632\n",
      "5262/5262 [==============================] - 1s 135us/sample - loss: 0.0455 - accuracy: 0.9873 - val_loss: 0.0505 - val_accuracy: 0.9795\n",
      "Epoch 49/1000\n",
      "5000/5262 [===========================>..] - ETA: 0s - loss: 0.0472 - accuracy: 0.9864\n",
      "Epoch 00049: val_accuracy did not improve from 0.98632\n",
      "5262/5262 [==============================] - 1s 143us/sample - loss: 0.0467 - accuracy: 0.9867 - val_loss: 0.0511 - val_accuracy: 0.9812\n",
      "Epoch 50/1000\n",
      "5190/5262 [============================>.] - ETA: 0s - loss: 0.0471 - accuracy: 0.9865\n",
      "Epoch 00050: val_accuracy did not improve from 0.98632\n",
      "5262/5262 [==============================] - 1s 138us/sample - loss: 0.0470 - accuracy: 0.9863 - val_loss: 0.0434 - val_accuracy: 0.9829\n",
      "Epoch 51/1000\n",
      "5090/5262 [============================>.] - ETA: 0s - loss: 0.0386 - accuracy: 0.9900\n",
      "Epoch 00051: val_accuracy did not improve from 0.98632\n",
      "5262/5262 [==============================] - 1s 196us/sample - loss: 0.0393 - accuracy: 0.9897 - val_loss: 0.0672 - val_accuracy: 0.9761\n",
      "Epoch 52/1000\n",
      "5150/5262 [============================>.] - ETA: 0s - loss: 0.0491 - accuracy: 0.9858\n",
      "Epoch 00052: val_accuracy did not improve from 0.98632\n",
      "5262/5262 [==============================] - 1s 153us/sample - loss: 0.0481 - accuracy: 0.9861 - val_loss: 0.0442 - val_accuracy: 0.9812\n",
      "Epoch 53/1000\n",
      "4990/5262 [===========================>..] - ETA: 0s - loss: 0.0469 - accuracy: 0.9846\n",
      "Epoch 00053: val_accuracy did not improve from 0.98632\n",
      "5262/5262 [==============================] - 1s 153us/sample - loss: 0.0476 - accuracy: 0.9844 - val_loss: 0.0414 - val_accuracy: 0.9863\n",
      "Epoch 54/1000\n",
      "4900/5262 [==========================>...] - ETA: 0s - loss: 0.0443 - accuracy: 0.9892\n",
      "Epoch 00054: val_accuracy did not improve from 0.98632\n",
      "5262/5262 [==============================] - 1s 130us/sample - loss: 0.0425 - accuracy: 0.9895 - val_loss: 0.0446 - val_accuracy: 0.9829\n",
      "Epoch 55/1000\n",
      "5090/5262 [============================>.] - ETA: 0s - loss: 0.0427 - accuracy: 0.9890\n",
      "Epoch 00055: val_accuracy did not improve from 0.98632\n",
      "5262/5262 [==============================] - 1s 137us/sample - loss: 0.0420 - accuracy: 0.9892 - val_loss: 0.0485 - val_accuracy: 0.9829\n"
     ]
    },
    {
     "name": "stdout",
     "output_type": "stream",
     "text": [
      "Epoch 56/1000\n",
      "5180/5262 [============================>.] - ETA: 0s - loss: 0.0450 - accuracy: 0.9867\n",
      "Epoch 00056: val_accuracy did not improve from 0.98632\n",
      "5262/5262 [==============================] - 1s 137us/sample - loss: 0.0449 - accuracy: 0.9867 - val_loss: 0.0471 - val_accuracy: 0.9829\n"
     ]
    }
   ],
   "source": [
    "model = Sequential()\n",
    "\n",
    "# 네트워크 구성\n",
    "# model.add(Dense(128, input_dim=12, activation='relu'))\n",
    "model.add(Dense(64, input_shape=(12, ), activation='relu'))\n",
    "# model.add(Dense(64, activation='relu')) # 입력: 128, 출력: 64 \n",
    "model.add(Dense(30, activation='relu'))\n",
    "model.add(Dense(10, activation='relu'))\n",
    "model.add(Dense(1, activation='sigmoid')) # 0 ~ 1 사이의 값으로 변경\n",
    "# 1: 출력 노드 수, input_dim=10: 입력 데이터 갯수\n",
    "\n",
    "# 학습 설정, 수치예측은 metrics 생략시 loss에 지정된 mse를 사용\n",
    "model.compile(optimizer='adam', loss='binary_crossentropy', \n",
    "                                metrics=['accuracy'])\n",
    "\n",
    "# 최소 오차 5번 나오면 자동 종료\n",
    "early_stopping = EarlyStopping(monitor='loss', patience=5)\n",
    "\n",
    "MODEL_DIR = './model/'\n",
    "if not os.path.exists(MODEL_DIR): # 폴더가 존재하지 않으면 생성\n",
    "    os.mkdir(MODEL_DIR)\n",
    "    \n",
    "modelpath='./model/{epoch:04d}-{val_accuracy:.4f}.h5'    \n",
    "# 검증 정확도가 개선되었을 때만 학습 모델 파일로 저장\n",
    "checkpointer = ModelCheckpoint(filepath=modelpath,\n",
    "                              monitor='val_accuracy',\n",
    "                              verbose=1, save_best_only=True)\n",
    "\n",
    "# 학습\n",
    "hist = model.fit(x_train, y_train, validation_data=(x_val, y_val), \n",
    "                 epochs=1000, \n",
    "                 batch_size=10, \n",
    "                 callbacks=[early_stopping, checkpointer])"
   ]
  },
  {
   "cell_type": "code",
   "execution_count": 7,
   "metadata": {},
   "outputs": [
    {
     "name": "stdout",
     "output_type": "stream",
     "text": [
      "Model: \"sequential\"\n",
      "_________________________________________________________________\n",
      "Layer (type)                 Output Shape              Param #   \n",
      "=================================================================\n",
      "dense (Dense)                (None, 64)                832       \n",
      "_________________________________________________________________\n",
      "dense_1 (Dense)              (None, 30)                1950      \n",
      "_________________________________________________________________\n",
      "dense_2 (Dense)              (None, 10)                310       \n",
      "_________________________________________________________________\n",
      "dense_3 (Dense)              (None, 1)                 11        \n",
      "=================================================================\n",
      "Total params: 3,103\n",
      "Trainable params: 3,103\n",
      "Non-trainable params: 0\n",
      "_________________________________________________________________\n"
     ]
    }
   ],
   "source": [
    "model.summary()"
   ]
  },
  {
   "cell_type": "code",
   "execution_count": 8,
   "metadata": {},
   "outputs": [
    {
     "data": {
      "image/png": "[encoded data removed]",
      "text/plain": [
       "<Figure size 720x360 with 2 Axes>"
      ]
     },
     "metadata": {
      "needs_background": "light"
     },
     "output_type": "display_data"
    }
   ],
   "source": [
    "import matplotlib.pyplot as plt\n",
    "%matplotlib inline  \n",
    "\n",
    "fig, loss_ax = plt.subplots()\n",
    "# plt.figure(figsize=(6,4)) # ERROR\n",
    "fig.set_size_inches(10, 5)  # 챠트 크기 설정\n",
    "\n",
    "acc_ax = loss_ax.twinx()  # 오른쪽 y 출 설정\n",
    "\n",
    "# 왼쪽 y 축 설정\n",
    "loss_ax.plot(hist.history['loss'], 'y', label='train loss')\n",
    "loss_ax.plot(hist.history['val_loss'], 'r', label='val loss')\n",
    "loss_ax.set_ylim([0.0, 1.0]) # 값을 반영하여 변경\n",
    "\n",
    "# 오른쪽 y 축 설정\n",
    "acc_ax.plot(hist.history['accuracy'], 'b', label='train accuracy')\n",
    "acc_ax.plot(hist.history['val_accuracy'], 'g', label='val accuracy')\n",
    "acc_ax.set_ylim([0.0, 1.0])\n",
    "\n",
    "# 축 레이블 설정\n",
    "loss_ax.set_xlabel('epoch')  # 학습 횟수\n",
    "loss_ax.set_ylabel('loss')   # 오차\n",
    "acc_ax.set_ylabel('accuracy') # 정확도\n",
    "\n",
    "loss_ax.legend(loc='upper left') # 오차 레이블 위치\n",
    "acc_ax.legend(loc='lower left')  # 정확도 레이블 위치\n",
    "\n",
    "plt.show()\n"
   ]
  },
  {
   "cell_type": "code",
   "execution_count": 9,
   "metadata": {},
   "outputs": [
    {
     "name": "stdout",
     "output_type": "stream",
     "text": [
      "손실값: 0.03817714544692689 /정확도: 99.23076629638672 %\n"
     ]
    }
   ],
   "source": [
    "test_loss, test_acc = model.evaluate(x_test, y_test, batch_size=1, verbose=0)\n",
    "print('손실값:', test_loss, '/정확도:', (test_acc*100), '%')"
   ]
  },
  {
   "cell_type": "code",
   "execution_count": 12,
   "metadata": {},
   "outputs": [],
   "source": [
    "model.save('./model/0041-0.9863.h5')"
   ]
  },
  {
   "cell_type": "code",
   "execution_count": 13,
   "metadata": {},
   "outputs": [
    {
     "name": "stdout",
     "output_type": "stream",
     "text": [
      "실제값: 0.0, 예측값: [0.00085649]--> White 와인\n",
      "실제값: 0.0, 예측값: [0.0016301]--> White 와인\n",
      "실제값: 0.0, 예측값: [0.0061059]--> White 와인\n",
      "실제값: 0.0, 예측값: [0.00078571]--> White 와인\n",
      "실제값: 1.0, 예측값: [0.02376187]--> White 와인\n",
      "실제값: 0.0, 예측값: [0.00434965]--> White 와인\n",
      "실제값: 0.0, 예측값: [0.00191197]--> White 와인\n",
      "실제값: 0.0, 예측값: [0.00016415]--> White 와인\n",
      "실제값: 0.0, 예측값: [0.06040068]--> White 와인\n",
      "실제값: 0.0, 예측값: [0.00021505]--> White 와인\n"
     ]
    }
   ],
   "source": [
    "pd = model.predict(x_test[0:10])\n",
    "\n",
    "for i in range(len(x_test[0:10])):\n",
    "    fmt = '실제값: {0}, 예측값: {1}'\n",
    "    print(fmt.format(y_test[i], pd[i]), end='')\n",
    "    \n",
    "    if (pd[i] >= 0.5):\n",
    "        print('--> Red 와인')   # 1\n",
    "    else:\n",
    "        print('--> White 와인') # 0"
   ]
  },
  {
   "cell_type": "code",
   "execution_count": null,
   "metadata": {},
   "outputs": [],
   "source": []
  },
  {
   "cell_type": "code",
   "execution_count": null,
   "metadata": {},
   "outputs": [],
   "source": []
  }
 ],
 "metadata": {
  "kernelspec": {
   "display_name": "machine",
   "language": "python",
   "name": "machine"
  },
  "language_info": {
   "codemirror_mode": {
    "name": "ipython",
    "version": 3
   },
   "file_extension": ".py",
   "mimetype": "text/x-python",
   "name": "python",
   "nbconvert_exporter": "python",
   "pygments_lexer": "ipython3",
   "version": "3.6.9"
  }
 },
 "nbformat": 4,
 "nbformat_minor": 2
}
