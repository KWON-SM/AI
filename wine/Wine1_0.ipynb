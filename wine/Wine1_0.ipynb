{
 "cells": [
  {
   "cell_type": "code",
   "execution_count": 1,
   "metadata": {},
   "outputs": [],
   "source": [
    "import numpy as np\n",
    "import pandas as pd\n",
    "\n",
    "from tensorflow.keras.models import Sequential       # class\n",
    "from tensorflow.keras.models import load_model       # model 사용\n",
    "from tensorflow.keras.layers import Dense            # 전결합\n",
    "from tensorflow.keras.callbacks import EarlyStopping # 학습 자동 중지\n",
    "from tensorflow.keras import regularizers       # 가중치에 L1, L2 규제 적용\n",
    "\n",
    "from sklearn.preprocessing import LabelEncoder\n",
    "from sklearn.model_selection import train_test_split\n",
    "\n",
    "import matplotlib.pyplot as plt\n",
    "%matplotlib inline  "
   ]
  },
  {
   "cell_type": "code",
   "execution_count": 2,
   "metadata": {},
   "outputs": [
    {
     "name": "stdout",
     "output_type": "stream",
     "text": [
      "<class 'numpy.ndarray'>\n",
      "(6497, 13)\n"
     ]
    }
   ],
   "source": [
    "data = np.loadtxt('./wine_2.csv', delimiter=\",\", dtype=np.float64)\n",
    "print(type(data))\n",
    "print(data.shape)"
   ]
  },
  {
   "cell_type": "code",
   "execution_count": 3,
   "metadata": {},
   "outputs": [
    {
     "name": "stdout",
     "output_type": "stream",
     "text": [
      "(6497, 12)\n",
      "(6497,)\n"
     ]
    }
   ],
   "source": [
    "X = data[:, 0:12]\n",
    "print(X.shape)\n",
    "Y = data[:, 12]\n",
    "print(Y.shape)"
   ]
  },
  {
   "cell_type": "code",
   "execution_count": 4,
   "metadata": {},
   "outputs": [
    {
     "name": "stdout",
     "output_type": "stream",
     "text": [
      "[1. 1. 0. 0. 0. 0. 0. 0. 0. 0. 1. 1. 0. 0. 0. 1. 0. 0. 1. 0. 1. 1. 1. 0.\n",
      " 1. 0. 0. 0. 0. 0. 0. 0. 1. 0. 0. 0. 0. 0. 0. 0. 1. 0. 0. 1. 0. 0. 0. 0.\n",
      " 0. 0. 0. 0. 0. 0. 0. 0. 1. 0. 0. 0. 0. 0. 0. 1. 1. 0. 0. 1. 0. 1. 0. 0.\n",
      " 0. 0. 0. 0. 0. 0. 0. 1. 0. 0. 0. 0. 0. 1. 0. 0. 1. 0. 1. 0. 1. 0. 1. 0.\n",
      " 0. 1. 0. 1. 0. 0. 0. 1. 1. 0. 0. 0. 0. 0. 1. 0. 0. 1. 0. 0. 0. 1. 0. 0.\n",
      " 0. 0. 1. 0. 1. 0. 0. 1. 1. 1. 0. 1. 0. 1. 0. 0. 0. 0. 0. 1. 0. 1. 0. 0.\n",
      " 0. 0. 0. 0. 1. 0. 0. 1. 0. 1. 0. 0. 1. 0. 0. 0. 0. 0. 0. 0. 0. 1. 1. 1.\n",
      " 0. 1. 0. 0. 0. 0. 0. 0. 0. 0. 0. 0. 0. 0. 0. 0. 0. 0. 1. 0. 0. 0. 0. 0.\n",
      " 1. 0. 0. 0. 0. 1. 1. 0. 0. 0. 0. 0. 0. 0. 0. 0. 0. 0. 0. 1. 0. 1. 0. 0.\n",
      " 0. 0. 0. 1. 0. 1. 0. 0. 0. 0. 1. 1. 0. 1. 0. 0. 1. 1. 0. 1. 0. 0. 0. 0.\n",
      " 0. 1. 1. 1. 1. 0. 0. 1. 0. 0. 1. 1. 0. 0. 0. 0. 0. 1. 0. 1. 1. 0. 0. 0.\n",
      " 0. 0. 0. 0. 1. 0. 0. 1. 1. 0. 1. 0. 0. 0. 1. 1. 1. 0. 0. 0. 0. 0. 0. 0.\n",
      " 0. 0. 1. 0. 0. 1. 0. 1. 0. 1. 0. 0. 0. 1. 0. 0. 1. 0. 0. 0. 1. 0. 0. 0.\n",
      " 0. 0. 0. 0. 0. 0. 0. 1. 0. 0. 0. 0. 0. 0. 0. 0. 0. 0. 0. 1. 0. 0. 0. 0.\n",
      " 0. 0. 1. 0. 1. 1. 0. 0. 0. 1. 0. 1. 0. 1. 0. 0. 0. 0. 0. 0. 0. 1. 0. 0.\n",
      " 0. 0. 0. 1. 0. 0. 0. 0. 0. 0. 0. 0. 0. 0. 0. 1. 0. 1. 1. 1. 0. 0. 0. 1.\n",
      " 0. 0. 0. 1. 1. 0. 0. 0. 0. 0. 0. 0. 0. 1. 0. 0. 0. 0. 1. 0. 1. 0. 0. 0.\n",
      " 1. 0. 0. 1. 0. 0. 0. 0. 0. 0. 0. 0. 0. 0. 0. 0. 0. 0. 0. 1. 0. 0. 0. 1.\n",
      " 0. 0. 0. 0. 0. 0. 0. 0. 1. 1. 0. 0. 1. 0. 0. 1. 0. 0. 0. 0. 0. 0. 0. 0.\n",
      " 1. 1. 0. 0. 0. 0. 0. 0. 0. 0. 1. 0. 0. 0. 0. 0. 1. 1. 0. 0. 0. 1. 1. 0.\n",
      " 0. 0. 0. 0. 0. 0. 1. 0. 0. 0. 1. 1. 0. 0. 1. 0. 0. 0. 0. 0. 0. 0. 0. 0.\n",
      " 0. 0. 0. 0. 1. 0. 0. 1. 1. 1. 0. 0. 1. 0. 1. 0. 1. 0. 0. 0. 0. 0. 0. 1.\n",
      " 0. 1. 1. 0. 0. 0. 0. 1. 0. 0. 0. 0. 1. 0. 0. 0. 0. 0. 1. 0. 1. 0. 0. 0.\n",
      " 0. 0. 0. 0. 0. 0. 0. 0. 0. 0. 0. 0. 0. 0. 0. 0. 1. 0. 1. 1. 0. 0. 0. 0.\n",
      " 1. 0. 0. 0. 0. 1. 0. 0. 0.]\n",
      "(585,)\n"
     ]
    }
   ],
   "source": [
    "# train_test_split 분할을 통한 훈련, 검증, 테스트 데이터의 분리\n",
    "seed = 0\n",
    "# 90%: 분할대기, 10%: 테스트\n",
    "x_train_all, x_test, y_train_all, y_test = train_test_split(X, Y,\n",
    "                                                            stratify=Y,\n",
    "                                                            test_size=0.1,\n",
    "                                                            random_state=seed)\n",
    "# 나머지 데이터 85%를 분할, 90%: 훈련, 10%: 검증\n",
    "x_train, x_val, y_train, y_val = train_test_split(x_train_all, y_train_all,\n",
    "                                                  stratify=y_train_all,\n",
    "                                                  test_size=0.1,\n",
    "                                                  random_state=seed)\n",
    "\n",
    "print(y_val)\n",
    "print(y_val.shape)"
   ]
  },
  {
   "cell_type": "code",
   "execution_count": 10,
   "metadata": {},
   "outputs": [
    {
     "name": "stdout",
     "output_type": "stream",
     "text": [
      "Train on 5262 samples, validate on 585 samples\n",
      "Epoch 1/1000\n",
      "5262/5262 [==============================] - 1s 228us/sample - loss: 0.2350 - accuracy: 0.9170 - val_loss: 0.1858 - val_accuracy: 0.9333\n",
      "Epoch 2/1000\n",
      "5262/5262 [==============================] - 1s 141us/sample - loss: 0.1807 - accuracy: 0.9386 - val_loss: 0.1669 - val_accuracy: 0.9368\n",
      "Epoch 3/1000\n",
      "5262/5262 [==============================] - 1s 138us/sample - loss: 0.1634 - accuracy: 0.9434 - val_loss: 0.2266 - val_accuracy: 0.9350\n",
      "Epoch 4/1000\n",
      "5262/5262 [==============================] - 1s 135us/sample - loss: 0.1448 - accuracy: 0.9506 - val_loss: 0.1469 - val_accuracy: 0.9487\n",
      "Epoch 5/1000\n",
      "5262/5262 [==============================] - 1s 140us/sample - loss: 0.1230 - accuracy: 0.9601 - val_loss: 0.1119 - val_accuracy: 0.9624\n",
      "Epoch 6/1000\n",
      "5262/5262 [==============================] - 1s 134us/sample - loss: 0.1082 - accuracy: 0.9650 - val_loss: 0.0957 - val_accuracy: 0.9692\n",
      "Epoch 7/1000\n",
      "5262/5262 [==============================] - 1s 136us/sample - loss: 0.1008 - accuracy: 0.9671 - val_loss: 0.0874 - val_accuracy: 0.9675\n",
      "Epoch 8/1000\n",
      "5262/5262 [==============================] - 1s 137us/sample - loss: 0.0961 - accuracy: 0.9685 - val_loss: 0.0714 - val_accuracy: 0.9675\n",
      "Epoch 9/1000\n",
      "5262/5262 [==============================] - 1s 136us/sample - loss: 0.0926 - accuracy: 0.9713 - val_loss: 0.0665 - val_accuracy: 0.9778\n",
      "Epoch 10/1000\n",
      "5262/5262 [==============================] - 1s 136us/sample - loss: 0.0886 - accuracy: 0.9704 - val_loss: 0.0699 - val_accuracy: 0.9795\n",
      "Epoch 11/1000\n",
      "5262/5262 [==============================] - 1s 133us/sample - loss: 0.0804 - accuracy: 0.9762 - val_loss: 0.0915 - val_accuracy: 0.9744\n",
      "Epoch 12/1000\n",
      "5262/5262 [==============================] - 1s 136us/sample - loss: 0.0835 - accuracy: 0.9723 - val_loss: 0.0674 - val_accuracy: 0.9795\n",
      "Epoch 13/1000\n",
      "5262/5262 [==============================] - 1s 136us/sample - loss: 0.0755 - accuracy: 0.9768 - val_loss: 0.0629 - val_accuracy: 0.9795\n",
      "Epoch 14/1000\n",
      "5262/5262 [==============================] - 1s 136us/sample - loss: 0.0741 - accuracy: 0.9751 - val_loss: 0.0708 - val_accuracy: 0.9744\n",
      "Epoch 15/1000\n",
      "5262/5262 [==============================] - 1s 136us/sample - loss: 0.0740 - accuracy: 0.9757 - val_loss: 0.0634 - val_accuracy: 0.9812\n",
      "Epoch 16/1000\n",
      "5262/5262 [==============================] - 1s 133us/sample - loss: 0.0715 - accuracy: 0.9764 - val_loss: 0.0597 - val_accuracy: 0.9778\n",
      "Epoch 17/1000\n",
      "5262/5262 [==============================] - 1s 136us/sample - loss: 0.0709 - accuracy: 0.9770 - val_loss: 0.0615 - val_accuracy: 0.9812\n",
      "Epoch 18/1000\n",
      "5262/5262 [==============================] - 1s 137us/sample - loss: 0.0654 - accuracy: 0.9797 - val_loss: 0.1908 - val_accuracy: 0.9248\n",
      "Epoch 19/1000\n",
      "5262/5262 [==============================] - 1s 136us/sample - loss: 0.0721 - accuracy: 0.9762 - val_loss: 0.0767 - val_accuracy: 0.9761\n",
      "Epoch 20/1000\n",
      "5262/5262 [==============================] - 1s 136us/sample - loss: 0.0647 - accuracy: 0.9800 - val_loss: 0.0624 - val_accuracy: 0.9795\n",
      "Epoch 21/1000\n",
      "5262/5262 [==============================] - 1s 137us/sample - loss: 0.0636 - accuracy: 0.9808 - val_loss: 0.0561 - val_accuracy: 0.9829\n",
      "Epoch 22/1000\n",
      "5262/5262 [==============================] - 1s 136us/sample - loss: 0.0727 - accuracy: 0.9789 - val_loss: 0.0584 - val_accuracy: 0.9795\n",
      "Epoch 23/1000\n",
      "5262/5262 [==============================] - 1s 133us/sample - loss: 0.0664 - accuracy: 0.9808 - val_loss: 0.0729 - val_accuracy: 0.9658\n",
      "Epoch 24/1000\n",
      "5262/5262 [==============================] - 1s 136us/sample - loss: 0.0619 - accuracy: 0.9814 - val_loss: 0.0612 - val_accuracy: 0.9778\n",
      "Epoch 25/1000\n",
      "5262/5262 [==============================] - 1s 136us/sample - loss: 0.0623 - accuracy: 0.9812 - val_loss: 0.0615 - val_accuracy: 0.9778\n",
      "Epoch 26/1000\n",
      "5262/5262 [==============================] - 1s 137us/sample - loss: 0.0626 - accuracy: 0.9829 - val_loss: 0.1118 - val_accuracy: 0.9573\n",
      "Epoch 27/1000\n",
      "5262/5262 [==============================] - 1s 136us/sample - loss: 0.0556 - accuracy: 0.9823 - val_loss: 0.0477 - val_accuracy: 0.9829\n",
      "Epoch 28/1000\n",
      "5262/5262 [==============================] - 1s 137us/sample - loss: 0.0569 - accuracy: 0.9818 - val_loss: 0.0499 - val_accuracy: 0.9829\n",
      "Epoch 29/1000\n",
      "5262/5262 [==============================] - 1s 136us/sample - loss: 0.0607 - accuracy: 0.9816 - val_loss: 0.0633 - val_accuracy: 0.9761\n",
      "Epoch 30/1000\n",
      "5262/5262 [==============================] - 1s 135us/sample - loss: 0.0529 - accuracy: 0.9844 - val_loss: 0.0707 - val_accuracy: 0.9795\n",
      "Epoch 31/1000\n",
      "5262/5262 [==============================] - 1s 133us/sample - loss: 0.0498 - accuracy: 0.9861 - val_loss: 0.1041 - val_accuracy: 0.9641\n",
      "Epoch 32/1000\n",
      "5262/5262 [==============================] - 1s 133us/sample - loss: 0.0554 - accuracy: 0.9821 - val_loss: 0.0592 - val_accuracy: 0.9778\n",
      "Epoch 33/1000\n",
      "5262/5262 [==============================] - 1s 136us/sample - loss: 0.0524 - accuracy: 0.9844 - val_loss: 0.0620 - val_accuracy: 0.9795\n",
      "Epoch 34/1000\n",
      "5262/5262 [==============================] - 1s 139us/sample - loss: 0.0546 - accuracy: 0.9835 - val_loss: 0.0530 - val_accuracy: 0.9829\n",
      "Epoch 35/1000\n",
      "5262/5262 [==============================] - 1s 136us/sample - loss: 0.0514 - accuracy: 0.9837 - val_loss: 0.1027 - val_accuracy: 0.9590\n",
      "Epoch 36/1000\n",
      "5262/5262 [==============================] - 1s 136us/sample - loss: 0.0472 - accuracy: 0.9871 - val_loss: 0.0704 - val_accuracy: 0.9709\n",
      "Epoch 37/1000\n",
      "5262/5262 [==============================] - 1s 132us/sample - loss: 0.0453 - accuracy: 0.9878 - val_loss: 0.0524 - val_accuracy: 0.9812\n",
      "Epoch 38/1000\n",
      "5262/5262 [==============================] - 1s 134us/sample - loss: 0.0502 - accuracy: 0.9844 - val_loss: 0.0585 - val_accuracy: 0.9778\n",
      "Epoch 39/1000\n",
      "5262/5262 [==============================] - 1s 136us/sample - loss: 0.0493 - accuracy: 0.9857 - val_loss: 0.0557 - val_accuracy: 0.9829\n",
      "Epoch 40/1000\n",
      "5262/5262 [==============================] - 1s 133us/sample - loss: 0.0450 - accuracy: 0.9865 - val_loss: 0.0692 - val_accuracy: 0.9778\n",
      "Epoch 41/1000\n",
      "5262/5262 [==============================] - 1s 137us/sample - loss: 0.0470 - accuracy: 0.9863 - val_loss: 0.0503 - val_accuracy: 0.9812\n",
      "Epoch 42/1000\n",
      "5262/5262 [==============================] - 1s 136us/sample - loss: 0.0489 - accuracy: 0.9850 - val_loss: 0.0426 - val_accuracy: 0.9846\n",
      "Epoch 43/1000\n",
      "5262/5262 [==============================] - 1s 136us/sample - loss: 0.0497 - accuracy: 0.9861 - val_loss: 0.0825 - val_accuracy: 0.9692\n",
      "Epoch 44/1000\n",
      "5262/5262 [==============================] - 1s 133us/sample - loss: 0.0437 - accuracy: 0.9882 - val_loss: 0.0485 - val_accuracy: 0.9829\n",
      "Epoch 45/1000\n",
      "5262/5262 [==============================] - 1s 133us/sample - loss: 0.0493 - accuracy: 0.9848 - val_loss: 0.0541 - val_accuracy: 0.9778\n",
      "Epoch 46/1000\n",
      "5262/5262 [==============================] - 1s 136us/sample - loss: 0.0454 - accuracy: 0.9859 - val_loss: 0.0478 - val_accuracy: 0.9795\n",
      "Epoch 47/1000\n",
      "5262/5262 [==============================] - 1s 136us/sample - loss: 0.0491 - accuracy: 0.9859 - val_loss: 0.0478 - val_accuracy: 0.9795\n",
      "Epoch 48/1000\n",
      "5262/5262 [==============================] - 1s 136us/sample - loss: 0.0427 - accuracy: 0.9871 - val_loss: 0.0394 - val_accuracy: 0.9846\n",
      "Epoch 49/1000\n",
      "5262/5262 [==============================] - 1s 137us/sample - loss: 0.0450 - accuracy: 0.9867 - val_loss: 0.0472 - val_accuracy: 0.9829\n",
      "Epoch 50/1000\n",
      "5262/5262 [==============================] - 1s 139us/sample - loss: 0.0463 - accuracy: 0.9859 - val_loss: 0.0645 - val_accuracy: 0.9812\n",
      "Epoch 51/1000\n",
      "5262/5262 [==============================] - 1s 139us/sample - loss: 0.0450 - accuracy: 0.9875 - val_loss: 0.0427 - val_accuracy: 0.9863\n",
      "Epoch 52/1000\n",
      "5262/5262 [==============================] - 1s 139us/sample - loss: 0.0408 - accuracy: 0.9875 - val_loss: 0.0418 - val_accuracy: 0.9829\n",
      "Epoch 53/1000\n",
      "5262/5262 [==============================] - 1s 138us/sample - loss: 0.0426 - accuracy: 0.9886 - val_loss: 0.0377 - val_accuracy: 0.9863\n",
      "Epoch 54/1000\n",
      "5262/5262 [==============================] - 1s 138us/sample - loss: 0.0469 - accuracy: 0.9850 - val_loss: 0.0517 - val_accuracy: 0.9829\n",
      "Epoch 55/1000\n"
     ]
    },
    {
     "name": "stdout",
     "output_type": "stream",
     "text": [
      "5262/5262 [==============================] - 1s 137us/sample - loss: 0.0421 - accuracy: 0.9871 - val_loss: 0.0364 - val_accuracy: 0.9880\n",
      "Epoch 56/1000\n",
      "5262/5262 [==============================] - 1s 137us/sample - loss: 0.0398 - accuracy: 0.9892 - val_loss: 0.0489 - val_accuracy: 0.9846\n",
      "Epoch 57/1000\n",
      "5262/5262 [==============================] - 1s 135us/sample - loss: 0.0444 - accuracy: 0.9873 - val_loss: 0.0508 - val_accuracy: 0.9846\n",
      "Epoch 58/1000\n",
      "5262/5262 [==============================] - 1s 132us/sample - loss: 0.0402 - accuracy: 0.9890 - val_loss: 0.0453 - val_accuracy: 0.9880\n",
      "Epoch 59/1000\n",
      "5262/5262 [==============================] - 1s 138us/sample - loss: 0.0397 - accuracy: 0.9873 - val_loss: 0.0371 - val_accuracy: 0.9880\n",
      "Epoch 60/1000\n",
      "5262/5262 [==============================] - 1s 138us/sample - loss: 0.0437 - accuracy: 0.9861 - val_loss: 0.0395 - val_accuracy: 0.9846\n",
      "Epoch 61/1000\n",
      "5262/5262 [==============================] - 1s 141us/sample - loss: 0.0415 - accuracy: 0.9878 - val_loss: 0.0513 - val_accuracy: 0.9812\n",
      "Epoch 62/1000\n",
      "5262/5262 [==============================] - 1s 137us/sample - loss: 0.0415 - accuracy: 0.9871 - val_loss: 0.0647 - val_accuracy: 0.9778\n",
      "Epoch 63/1000\n",
      "5262/5262 [==============================] - 1s 133us/sample - loss: 0.0397 - accuracy: 0.9884 - val_loss: 0.0555 - val_accuracy: 0.9812\n",
      "Epoch 64/1000\n",
      "5262/5262 [==============================] - 1s 140us/sample - loss: 0.0390 - accuracy: 0.9880 - val_loss: 0.0416 - val_accuracy: 0.9897\n",
      "Epoch 65/1000\n",
      "5262/5262 [==============================] - 1s 137us/sample - loss: 0.0392 - accuracy: 0.9890 - val_loss: 0.0404 - val_accuracy: 0.9897\n",
      "Epoch 66/1000\n",
      "5262/5262 [==============================] - 1s 137us/sample - loss: 0.0420 - accuracy: 0.9882 - val_loss: 0.0623 - val_accuracy: 0.9812\n",
      "Epoch 67/1000\n",
      "5262/5262 [==============================] - 1s 137us/sample - loss: 0.0438 - accuracy: 0.9865 - val_loss: 0.0519 - val_accuracy: 0.9795\n",
      "Epoch 68/1000\n",
      "5262/5262 [==============================] - 1s 138us/sample - loss: 0.0394 - accuracy: 0.9884 - val_loss: 0.1822 - val_accuracy: 0.9316\n",
      "Epoch 69/1000\n",
      "5262/5262 [==============================] - 1s 139us/sample - loss: 0.0360 - accuracy: 0.9903 - val_loss: 0.0436 - val_accuracy: 0.9863\n",
      "Epoch 70/1000\n",
      "5262/5262 [==============================] - 1s 135us/sample - loss: 0.0409 - accuracy: 0.9873 - val_loss: 0.0511 - val_accuracy: 0.9829\n",
      "Epoch 71/1000\n",
      "5262/5262 [==============================] - 1s 141us/sample - loss: 0.0378 - accuracy: 0.9888 - val_loss: 0.0573 - val_accuracy: 0.9795\n",
      "Epoch 72/1000\n",
      "5262/5262 [==============================] - 1s 141us/sample - loss: 0.0361 - accuracy: 0.9901 - val_loss: 0.0454 - val_accuracy: 0.9863\n",
      "Epoch 73/1000\n",
      "5262/5262 [==============================] - 1s 136us/sample - loss: 0.0362 - accuracy: 0.9895 - val_loss: 0.0550 - val_accuracy: 0.9795\n",
      "Epoch 74/1000\n",
      "5262/5262 [==============================] - 1s 136us/sample - loss: 0.0410 - accuracy: 0.9875 - val_loss: 0.0391 - val_accuracy: 0.9863\n"
     ]
    }
   ],
   "source": [
    "model = Sequential()\n",
    "\n",
    "# 네트워크 구성\n",
    "# model.add(Dense(128, input_dim=12, activation='relu'))\n",
    "model.add(Dense(64, input_shape=(12, ), activation='relu'))\n",
    "# model.add(Dense(64, activation='relu')) # 입력: 128, 출력: 64 \n",
    "model.add(Dense(30, activation='relu'))\n",
    "model.add(Dense(10, activation='relu'))\n",
    "model.add(Dense(1, activation='sigmoid')) # 0 ~ 1 사이의 값으로 변경\n",
    "# 1: 출력 노드 수, input_dim=10: 입력 데이터 갯수\n",
    "\n",
    "# 학습 설정, 수치예측은 metrics 생략시 loss에 지정된 mse를 사용\n",
    "model.compile(optimizer='adam', loss='binary_crossentropy', \n",
    "                                metrics=['accuracy'])\n",
    "\n",
    "# 최소 오차 5번 나오면 자동 종료\n",
    "early_stopping = EarlyStopping(monitor='loss', patience=5)\n",
    "# 학습\n",
    "hist = model.fit(x_train, y_train, validation_data=(x_val, y_val), epochs=1000, \n",
    "                 batch_size=10, callbacks=[early_stopping])\n",
    "# x_train: 훈련 데이터, y_train: 타깃(실제값)\n",
    "# validation_split=0.2: 훈련과 검증을 80:20으로 데이터 분할\n",
    "# shuffle=True: 데이터 무작위 검증\n",
    "# epochs=300: 전체 데이터 학습 횟수\n",
    "# batch_size=1: 1건 처리후 가중치 변경\n",
    "#               100 * (100 / 1) = 10000번 가중치 변경"
   ]
  },
  {
   "cell_type": "code",
   "execution_count": 7,
   "metadata": {},
   "outputs": [
    {
     "name": "stdout",
     "output_type": "stream",
     "text": [
      "Model: \"sequential\"\n",
      "_________________________________________________________________\n",
      "Layer (type)                 Output Shape              Param #   \n",
      "=================================================================\n",
      "dense (Dense)                (None, 64)                832       \n",
      "_________________________________________________________________\n",
      "dense_1 (Dense)              (None, 30)                1950      \n",
      "_________________________________________________________________\n",
      "dense_2 (Dense)              (None, 10)                310       \n",
      "_________________________________________________________________\n",
      "dense_3 (Dense)              (None, 1)                 11        \n",
      "=================================================================\n",
      "Total params: 3,103\n",
      "Trainable params: 3,103\n",
      "Non-trainable params: 0\n",
      "_________________________________________________________________\n"
     ]
    }
   ],
   "source": [
    "model.summary()"
   ]
  },
  {
   "cell_type": "code",
   "execution_count": 11,
   "metadata": {},
   "outputs": [
    {
     "data": {
      "image/png": "[encoded data removed]",
      "text/plain": [
       "<Figure size 720x360 with 2 Axes>"
      ]
     },
     "metadata": {
      "needs_background": "light"
     },
     "output_type": "display_data"
    }
   ],
   "source": [
    "import matplotlib.pyplot as plt\n",
    "%matplotlib inline  \n",
    "\n",
    "fig, loss_ax = plt.subplots()\n",
    "# plt.figure(figsize=(6,4)) # ERROR\n",
    "fig.set_size_inches(10, 5)  # 챠트 크기 설정\n",
    "\n",
    "acc_ax = loss_ax.twinx()  # 오른쪽 y 출 설정\n",
    "\n",
    "# 왼쪽 y 축 설정\n",
    "loss_ax.plot(hist.history['loss'], 'y', label='train loss')\n",
    "loss_ax.plot(hist.history['val_loss'], 'r', label='val loss')\n",
    "loss_ax.set_ylim([0.0, 1.0]) # 값을 반영하여 변경\n",
    "\n",
    "# 오른쪽 y 축 설정\n",
    "acc_ax.plot(hist.history['accuracy'], 'b', label='train accuracy')\n",
    "acc_ax.plot(hist.history['val_accuracy'], 'g', label='val accuracy')\n",
    "acc_ax.set_ylim([0.0, 1.0])\n",
    "\n",
    "# 축 레이블 설정\n",
    "loss_ax.set_xlabel('epoch')  # 학습 횟수\n",
    "loss_ax.set_ylabel('loss')   # 오차\n",
    "acc_ax.set_ylabel('accuracy') # 정확도\n",
    "\n",
    "loss_ax.legend(loc='upper left') # 오차 레이블 위치\n",
    "acc_ax.legend(loc='lower left')  # 정확도 레이블 위치\n",
    "\n",
    "plt.show()\n"
   ]
  },
  {
   "cell_type": "code",
   "execution_count": 12,
   "metadata": {},
   "outputs": [
    {
     "name": "stdout",
     "output_type": "stream",
     "text": [
      "손실값: 0.031128517356224253 /정확도: 99.23076629638672 %\n"
     ]
    }
   ],
   "source": [
    "test_loss, test_acc = model.evaluate(x_test, y_test, batch_size=1, verbose=0)\n",
    "print('손실값:', test_loss, '/정확도:', (test_acc*100), '%')"
   ]
  },
  {
   "cell_type": "code",
   "execution_count": 13,
   "metadata": {},
   "outputs": [],
   "source": [
    "model.save('./wine.h5')"
   ]
  },
  {
   "cell_type": "code",
   "execution_count": 14,
   "metadata": {},
   "outputs": [
    {
     "name": "stdout",
     "output_type": "stream",
     "text": [
      "실제값: 0.0, 예측값: [0.00021043]--> White 와인\n",
      "실제값: 0.0, 예측값: [0.00122231]--> White 와인\n",
      "실제값: 0.0, 예측값: [0.00138927]--> White 와인\n",
      "실제값: 0.0, 예측값: [0.00135317]--> White 와인\n",
      "실제값: 1.0, 예측값: [0.06560832]--> White 와인\n",
      "실제값: 0.0, 예측값: [0.00510567]--> White 와인\n",
      "실제값: 0.0, 예측값: [0.00091326]--> White 와인\n",
      "실제값: 0.0, 예측값: [0.00117657]--> White 와인\n",
      "실제값: 0.0, 예측값: [0.29019076]--> White 와인\n",
      "실제값: 0.0, 예측값: [0.00025227]--> White 와인\n"
     ]
    }
   ],
   "source": [
    "pd = model.predict(x_test[0:10])\n",
    "\n",
    "for i in range(len(x_test[0:10])):\n",
    "    fmt = '실제값: {0}, 예측값: {1}'\n",
    "    print(fmt.format(y_test[i], pd[i]), end='')\n",
    "    \n",
    "    if (pd[i] >= 0.5):\n",
    "        print('--> Red 와인')   # 1\n",
    "    else:\n",
    "        print('--> White 와인') # 0"
   ]
  },
  {
   "cell_type": "code",
   "execution_count": null,
   "metadata": {},
   "outputs": [],
   "source": []
  }
 ],
 "metadata": {
  "kernelspec": {
   "display_name": "machine",
   "language": "python",
   "name": "machine"
  },
  "language_info": {
   "codemirror_mode": {
    "name": "ipython",
    "version": 3
   },
   "file_extension": ".py",
   "mimetype": "text/x-python",
   "name": "python",
   "nbconvert_exporter": "python",
   "pygments_lexer": "ipython3",
   "version": "3.6.9"
  }
 },
 "nbformat": 4,
 "nbformat_minor": 2
}
