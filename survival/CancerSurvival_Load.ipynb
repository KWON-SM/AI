{
 "cells": [
  {
   "cell_type": "code",
   "execution_count": 1,
   "metadata": {},
   "outputs": [],
   "source": [
    "import warnings\n",
    "warnings.filterwarnings(action='ignore')\n",
    "\n",
    "from tensorflow.keras.models import load_model  \n",
    "import numpy as np"
   ]
  },
  {
   "cell_type": "code",
   "execution_count": 2,
   "metadata": {},
   "outputs": [
    {
     "name": "stdout",
     "output_type": "stream",
     "text": [
      "[[293.     1.     3.8    2.8    0.     0.     0.     0.     0.     0.\n",
      "   12.     0.     0.     0.     1.     0.    62.  ]\n",
      " [  1.     2.     2.88   2.16   1.     0.     0.     0.     1.     1.\n",
      "   14.     0.     0.     0.     1.     0.    60.  ]\n",
      " [  8.     2.     3.19   2.5    1.     0.     0.     0.     1.     0.\n",
      "   11.     0.     0.     1.     1.     0.    66.  ]\n",
      " [ 14.     2.     3.98   3.06   2.     0.     0.     0.     1.     1.\n",
      "   14.     0.     0.     0.     1.     0.    80.  ]\n",
      " [ 17.     2.     2.21   1.88   0.     0.     1.     0.     0.     0.\n",
      "   12.     0.     0.     0.     1.     0.    56.  ]\n",
      " [ 18.     2.     2.96   1.67   0.     0.     0.     0.     0.     0.\n",
      "   12.     0.     0.     0.     1.     0.    61.  ]\n",
      " [ 35.     2.     2.76   2.2    1.     0.     0.     0.     1.     0.\n",
      "   11.     0.     0.     0.     0.     0.    76.  ]\n",
      " [ 42.     2.     3.24   2.52   1.     0.     0.     0.     1.     0.\n",
      "   12.     0.     0.     0.     1.     0.    63.  ]\n",
      " [ 65.     2.     3.15   2.76   1.     0.     1.     0.     1.     0.\n",
      "   12.     0.     0.     0.     1.     0.    59.  ]\n",
      " [111.     2.     4.48   4.2    0.     0.     0.     0.     0.     0.\n",
      "   12.     0.     0.     0.     1.     0.    55.  ]]\n"
     ]
    }
   ],
   "source": [
    "# 데이터\n",
    "# x_data = np.array([[293,1,3.8,2.8,0,0,0,0,0,0,12,0,0,0,1,0,62]])\n",
    "x_data = np.array([\n",
    "[293,1,3.8,2.8,0,0,0,0,0,0,12,0,0,0,1,0,62],\n",
    "[1,2,2.88,2.16,1,0,0,0,1,1,14,0,0,0,1,0,60],\n",
    "[8,2,3.19,2.5,1,0,0,0,1,0,11,0,0,1,1,0,66],\n",
    "[14,2,3.98,3.06,2,0,0,0,1,1,14,0,0,0,1,0,80],\n",
    "[17,2,2.21,1.88,0,0,1,0,0,0,12,0,0,0,1,0,56],\n",
    "[18,2,2.96,1.67,0,0,0,0,0,0,12,0,0,0,1,0,61],\n",
    "[35,2,2.76,2.2,1,0,0,0,1,0,11,0,0,0,0,0,76],\n",
    "[42,2,3.24,2.52,1,0,0,0,1,0,12,0,0,0,1,0,63],\n",
    "[65,2,3.15,2.76,1,0,1,0,1,0,12,0,0,0,1,0,59],\n",
    "[111,2,4.48,4.2,0,0,0,0,0,0,12,0,0,0,1,0,55]\n",
    "])\n",
    "\n",
    "# y 값은 sigmoid 함수의 경계값인 0과 1을 지정해야 2항 분류가 됨.\n",
    "# [293,1,3.8,2.8,0,0,0,0,0,0,12,0,0,0,1,0,62], --> 0\n",
    "# [1,2,2.88,2.16,1,0,0,0,1,1,14,0,0,0,1,0,60], --> 0\n",
    "# [8,2,3.19,2.5,1,0,0,0,1,0,11,0,0,1,1,0,66],  --> 1\n",
    "\n",
    "y_data = np.array([[0],\n",
    "                        [0],\n",
    "                        [1],\n",
    "                        [1],\n",
    "                        [0],\n",
    "                        [0],\n",
    "                        [0],\n",
    "                        [1],\n",
    "                        [0],\n",
    "                        [0]])\n",
    "\n",
    "print(x_data[0:17]) "
   ]
  },
  {
   "cell_type": "code",
   "execution_count": 5,
   "metadata": {},
   "outputs": [
    {
     "name": "stdout",
     "output_type": "stream",
     "text": [
      "(10, 1)\n",
      "<class 'numpy.ndarray'>\n",
      "[[0.12160036]\n",
      " [0.00334284]\n",
      " [0.02635327]\n",
      " [0.70463306]\n",
      " [0.02344525]\n",
      " [0.00311419]\n",
      " [0.04175559]\n",
      " [0.10881135]\n",
      " [0.1932924 ]\n",
      " [0.00884324]]\n",
      "실제값: [0]  → 계산값: [0.12160036] → 예측값: 0 사망\n",
      "실제값: [0]  → 계산값: [0.00334284] → 예측값: 0 사망\n",
      "실제값: [1]  → 계산값: [0.02635327] → 예측값: 0 사망\n",
      "실제값: [1]  → 계산값: [0.70463306] → 예측값: 1 생존\n",
      "실제값: [0]  → 계산값: [0.02344525] → 예측값: 0 사망\n",
      "실제값: [0]  → 계산값: [0.00311419] → 예측값: 0 사망\n",
      "실제값: [0]  → 계산값: [0.04175559] → 예측값: 0 사망\n",
      "실제값: [1]  → 계산값: [0.10881135] → 예측값: 0 사망\n",
      "실제값: [0]  → 계산값: [0.1932924] → 예측값: 0 사망\n",
      "실제값: [0]  → 계산값: [0.00884324] → 예측값: 0 사망\n"
     ]
    }
   ],
   "source": [
    "model = load_model('./CancerSurvival.h5')  #'./CancerSurvival.h5' 가 model이라는 함수로 연결됨.\n",
    "y_predict = model.predict(x_data)\n",
    "print(y_predict.shape)\n",
    "print(type(y_predict))\n",
    "print(y_predict)\n",
    "\n",
    "for i in range(len(x_data)):\n",
    "    print('실제값:', y_data[i], ' → 계산값:', y_predict[i], end='')\n",
    "    \n",
    "    if y_predict[i] >= 0.5:\n",
    "        y_predict[i] = 1\n",
    "        sw = '생존'    # sw => switch변수\n",
    "    else:\n",
    "        y_predict[i] = 0\n",
    "        sw = '사망'\n",
    "    print(' → 예측값:', int(y_predict[i]), sw)"
   ]
  },
  {
   "cell_type": "code",
   "execution_count": null,
   "metadata": {},
   "outputs": [],
   "source": []
  },
  {
   "cell_type": "code",
   "execution_count": null,
   "metadata": {},
   "outputs": [],
   "source": []
  },
  {
   "cell_type": "code",
   "execution_count": null,
   "metadata": {},
   "outputs": [],
   "source": []
  }
 ],
 "metadata": {
  "kernelspec": {
   "display_name": "machine",
   "language": "python",
   "name": "machine"
  },
  "language_info": {
   "codemirror_mode": {
    "name": "ipython",
    "version": 3
   },
   "file_extension": ".py",
   "mimetype": "text/x-python",
   "name": "python",
   "nbconvert_exporter": "python",
   "pygments_lexer": "ipython3",
   "version": "3.6.9"
  }
 },
 "nbformat": 4,
 "nbformat_minor": 2
}
