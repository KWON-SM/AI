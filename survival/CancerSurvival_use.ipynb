{
 "cells": [
  {
   "cell_type": "code",
   "execution_count": 1,
   "metadata": {},
   "outputs": [],
   "source": [
    "import warnings\n",
    "warnings.filterwarnings(action='ignore')\n",
    "     \n",
    "from tensorflow.keras.models import load_model      # model 사용\n",
    "import numpy as np"
   ]
  },
  {
   "cell_type": "code",
   "execution_count": 2,
   "metadata": {},
   "outputs": [
    {
     "name": "stdout",
     "output_type": "stream",
     "text": [
      "<class 'numpy.ndarray'>\n",
      "(17,)\n",
      "[10.   1.   3.8  2.8  1.   2.   1.   2.   2.   0.  12.   0.   1.   1.\n",
      "  1.   0.  62. ]\n"
     ]
    }
   ],
   "source": [
    "# 데이터\n",
    "# x_data = np.array([\n",
    "#     [10, 1, 3.8, 2.8, 1, 1, 0, 0, 0, 0, 12, 0, 0, 0, 1, 0, 62],\n",
    "# ])\n",
    "\n",
    "data = \"10, 1, 3.8, 2.8, 1, 2, 1, 2, 2, 0, 12, 0, 1, 1, 1, 0, 62\"\n",
    "data = np.array(data.split(','), dtype=float)  # or int\n",
    "print(type(data)) # <class 'numpy.ndarray'>\n",
    "print(data.shape) # (17,)\n",
    "print(data)"
   ]
  },
  {
   "cell_type": "code",
   "execution_count": 3,
   "metadata": {},
   "outputs": [
    {
     "name": "stdout",
     "output_type": "stream",
     "text": [
      "<class 'numpy.ndarray'>\n",
      "(1, 17)\n",
      "[[10.   1.   3.8  2.8  1.   2.   1.   2.   2.   0.  12.   0.   1.   1.\n",
      "   1.   0.  62. ]]\n"
     ]
    }
   ],
   "source": [
    "# 2차원 배열 데이터 생성\n",
    "x_data = np.array([\n",
    "    data,\n",
    "])\n",
    "print(type(x_data))\n",
    "print(x_data.shape) # (1, 17)\n",
    "print(x_data)"
   ]
  },
  {
   "cell_type": "code",
   "execution_count": 4,
   "metadata": {},
   "outputs": [
    {
     "name": "stdout",
     "output_type": "stream",
     "text": [
      "(1, 17)\n",
      "(1, 17)\n",
      "(17,)\n",
      "<class 'numpy.ndarray'>\n"
     ]
    }
   ],
   "source": [
    "print(x_data.shape)\n",
    "print(x_data[0:1].shape)\n",
    "print(x_data[0].shape)\n",
    "print(type(x_data[0]))"
   ]
  },
  {
   "cell_type": "code",
   "execution_count": 6,
   "metadata": {},
   "outputs": [
    {
     "name": "stdout",
     "output_type": "stream",
     "text": [
      "(1, 1)\n",
      "<class 'numpy.ndarray'>\n",
      "[[0.8761589]]\n",
      "생존 확률: [0.8761589] → 생존\n"
     ]
    }
   ],
   "source": [
    "model = load_model('./CancerSurvival.h5')\n",
    "y_predict = model.predict(x_data) # 1건의 데이터, 사용 가능, 2차원 배열\n",
    "# y_predict = model.predict(x_data[0:1]) # 1건의 데이터, 사용 가능, 2차원 배열\n",
    "# y_predict = model.predict(x_data[0]) # 1건의 데이터, ERROR\n",
    "print(y_predict.shape)\n",
    "print(type(y_predict))\n",
    "print(y_predict)\n",
    "\n",
    "for i in range(len(x_data)):\n",
    "    print('생존 확률:', y_predict[i], end='')\n",
    "    \n",
    "    if y_predict[i] >= 0.7:\n",
    "        print(' → 생존')\n",
    "        res = '생존'\n",
    "    else:\n",
    "        print(' → 사망');\n",
    "        res = '사망'\n",
    "\n",
    "# 생존 확률: [0.9000551] → 생존"
   ]
  }
 ],
 "metadata": {
  "kernelspec": {
   "display_name": "machine",
   "language": "python",
   "name": "machine"
  },
  "language_info": {
   "codemirror_mode": {
    "name": "ipython",
    "version": 3
   },
   "file_extension": ".py",
   "mimetype": "text/x-python",
   "name": "python",
   "nbconvert_exporter": "python",
   "pygments_lexer": "ipython3",
   "version": "3.6.9"
  }
 },
 "nbformat": 4,
 "nbformat_minor": 2
}
